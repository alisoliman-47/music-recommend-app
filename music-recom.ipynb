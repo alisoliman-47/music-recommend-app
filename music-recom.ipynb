{
 "cells": [
  {
   "cell_type": "code",
   "execution_count": 3,
   "id": "6fa086c9",
   "metadata": {},
   "outputs": [],
   "source": [
    "import os\n",
    "import json\n",
    "\n",
    "import zipfile\n",
    "import numpy as np\n",
    "import pandas as pd\n",
    "import matplotlib.pyplot as plt\n",
    "from sklearn.feature_extraction.text import TfidfVectorizer\n",
    "from sklearn.metrics.pairwise import cosine_similarity\n",
    "from wordcloud import WordCloud\n",
    "import re\n",
    "import nltk\n",
    "from nltk.corpus import stopwords\n",
    "from nltk.tokenize import word_tokenize"
   ]
  },
  {
   "cell_type": "markdown",
   "id": "b190d4df",
   "metadata": {},
   "source": [
    "Data Collection "
   ]
  },
  {
   "cell_type": "code",
   "execution_count": 11,
   "id": "6b58c4a0",
   "metadata": {},
   "outputs": [],
   "source": [
    "kaggle_config = json.load(open('kaggle.json'))\n",
    "kaggle_config.keys()\n",
    "\n",
    "# Setup the environment variables\n",
    "os.environ['KAGGLE_USERNAME'] = kaggle_config['username']\n",
    "os.environ['KAGGLE_KEY'] = kaggle_config['key']\n"
   ]
  },
  {
   "cell_type": "code",
   "execution_count": 13,
   "id": "7b76ceab",
   "metadata": {},
   "outputs": [
    {
     "name": "stdout",
     "output_type": "stream",
     "text": [
      "Dataset URL: https://www.kaggle.com/datasets/notshrirang/spotify-million-song-dataset\n",
      "License(s): CC0-1.0\n",
      "spotify-million-song-dataset.zip: Skipping, found more recently modified local copy (use --force to force download)\n",
      "kaggle.json  music-recom.ipynb\tspotify-million-song-dataset.zip  venv\n"
     ]
    }
   ],
   "source": [
    "!kaggle datasets download notshrirang/spotify-million-song-dataset\n",
    "!ls"
   ]
  },
  {
   "cell_type": "code",
   "execution_count": 15,
   "id": "ff56d5b8",
   "metadata": {},
   "outputs": [],
   "source": [
    "with zipfile.ZipFile('spotify-million-song-dataset.zip', 'r') as zip_ref:\n",
    "    zip_ref.extractall()\n",
    "df = pd.read_csv(\"spotify_millsongdata.csv\")"
   ]
  },
  {
   "cell_type": "markdown",
   "id": "a8287927",
   "metadata": {},
   "source": [
    "Understanding/Visualizing"
   ]
  },
  {
   "cell_type": "code",
   "execution_count": 18,
   "id": "9f18fcea",
   "metadata": {},
   "outputs": [
    {
     "name": "stdout",
     "output_type": "stream",
     "text": [
      "<class 'pandas.core.frame.DataFrame'>\n",
      "RangeIndex: 57650 entries, 0 to 57649\n",
      "Data columns (total 4 columns):\n",
      " #   Column  Non-Null Count  Dtype \n",
      "---  ------  --------------  ----- \n",
      " 0   artist  57650 non-null  object\n",
      " 1   song    57650 non-null  object\n",
      " 2   link    57650 non-null  object\n",
      " 3   text    57650 non-null  object\n",
      "dtypes: object(4)\n",
      "memory usage: 1.8+ MB\n"
     ]
    }
   ],
   "source": [
    "df.shape\n",
    "df.head()\n",
    "df.info()"
   ]
  }
 ],
 "metadata": {
  "kernelspec": {
   "display_name": "venv",
   "language": "python",
   "name": "python3"
  },
  "language_info": {
   "codemirror_mode": {
    "name": "ipython",
    "version": 3
   },
   "file_extension": ".py",
   "mimetype": "text/x-python",
   "name": "python",
   "nbconvert_exporter": "python",
   "pygments_lexer": "ipython3",
   "version": "3.11.12"
  }
 },
 "nbformat": 4,
 "nbformat_minor": 5
}
